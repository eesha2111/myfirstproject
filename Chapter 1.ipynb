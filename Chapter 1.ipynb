{
 "cells": [
  {
   "cell_type": "markdown",
   "id": "720f94be",
   "metadata": {},
   "source": [
    "# Chapter 1\n",
    "### INtroduction\n",
    "\n",
    "## What is code?\n",
    "## What is programming Language?\n",
    "## Python as a Language?\n",
    "### Language of Python interpreter\n",
    "### Individual speaking python known as Pythonista\n",
    "\n",
    "## Syntax Errors(errors in typing language)"
   ]
  },
  {
   "cell_type": "code",
   "execution_count": 1,
   "id": "4949ed94",
   "metadata": {},
   "outputs": [
    {
     "name": "stdout",
     "output_type": "stream",
     "text": [
      "1\n",
      "2\n"
     ]
    }
   ],
   "source": [
    "##Simple printing the value\n",
    "x=1\n",
    "print(x)\n",
    "x=x+1\n",
    "print(x)"
   ]
  },
  {
   "cell_type": "markdown",
   "id": "8f6b1a52",
   "metadata": {},
   "source": [
    "## Assignment Statement(x=2)\n",
    "## Assignment with expression(x=x+2)\n",
    "## Print Statement(print(x))"
   ]
  },
  {
   "cell_type": "code",
   "execution_count": 2,
   "id": "902a296a",
   "metadata": {},
   "outputs": [
    {
     "name": "stdout",
     "output_type": "stream",
     "text": [
      "Smaller\n",
      "Finis\n"
     ]
    }
   ],
   "source": [
    "##Conditional Steps\n",
    "x=5\n",
    "if x< 10:\n",
    "    print('Smaller')\n",
    "if x>20:\n",
    "    print('Bigger')\n",
    "print('Finis')"
   ]
  },
  {
   "cell_type": "code",
   "execution_count": 3,
   "id": "921ab85b",
   "metadata": {},
   "outputs": [
    {
     "name": "stdout",
     "output_type": "stream",
     "text": [
      "5\n",
      "4\n",
      "3\n",
      "2\n",
      "1\n",
      "Blastoff!\n"
     ]
    }
   ],
   "source": [
    "##Repeated Steps\n",
    "n=5\n",
    "while n>0:\n",
    "    print(n)\n",
    "    n=n-1\n",
    "print('Blastoff!')"
   ]
  },
  {
   "cell_type": "code",
   "execution_count": null,
   "id": "39f18c29",
   "metadata": {},
   "outputs": [],
   "source": []
  }
 ],
 "metadata": {
  "kernelspec": {
   "display_name": "Python 3 (ipykernel)",
   "language": "python",
   "name": "python3"
  },
  "language_info": {
   "codemirror_mode": {
    "name": "ipython",
    "version": 3
   },
   "file_extension": ".py",
   "mimetype": "text/x-python",
   "name": "python",
   "nbconvert_exporter": "python",
   "pygments_lexer": "ipython3",
   "version": "3.11.4"
  }
 },
 "nbformat": 4,
 "nbformat_minor": 5
}
