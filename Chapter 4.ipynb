{
 "cells": [
  {
   "cell_type": "markdown",
   "id": "38028f54",
   "metadata": {},
   "source": [
    "# Chapter 4\n",
    "### Functions"
   ]
  },
  {
   "cell_type": "markdown",
   "id": "ebc889a3",
   "metadata": {},
   "source": [
    "## Built-in functions\n",
    "### input(), type(), float(), int()\n",
    "\n",
    "## User-defined functions"
   ]
  },
  {
   "cell_type": "code",
   "execution_count": 2,
   "id": "32ad254d",
   "metadata": {},
   "outputs": [
    {
     "name": "stdout",
     "output_type": "stream",
     "text": [
      "w\n"
     ]
    }
   ],
   "source": [
    "big = max('Hello world')\n",
    "print(big)"
   ]
  },
  {
   "cell_type": "code",
   "execution_count": 3,
   "id": "d5140935",
   "metadata": {},
   "outputs": [
    {
     "name": "stdout",
     "output_type": "stream",
     "text": [
      " \n"
     ]
    }
   ],
   "source": [
    "tiny=min('Hello world')\n",
    "print(tiny)"
   ]
  },
  {
   "cell_type": "code",
   "execution_count": 5,
   "id": "a3bda29d",
   "metadata": {},
   "outputs": [
    {
     "name": "stdout",
     "output_type": "stream",
     "text": [
      "Hello\n",
      "Yo\n",
      "I'm a lumberjoke, and I'm okay.\n",
      "I sleep all night and I work all day.\n",
      "7\n"
     ]
    }
   ],
   "source": [
    "x=5\n",
    "print('Hello')\n",
    "\n",
    "def print_lyrics():\n",
    "    print(\"I'm a lumberjoke, and I'm okay.\")\n",
    "    print('I sleep all night and I work all day.')\n",
    "print('Yo')\n",
    "print_lyrics()\n",
    "x=x+2\n",
    "print(x)"
   ]
  },
  {
   "cell_type": "code",
   "execution_count": 6,
   "id": "03ffcc42",
   "metadata": {},
   "outputs": [
    {
     "ename": "TypeError",
     "evalue": "max expected at least 1 argument, got 0",
     "output_type": "error",
     "traceback": [
      "\u001b[1;31m---------------------------------------------------------------------------\u001b[0m",
      "\u001b[1;31mTypeError\u001b[0m                                 Traceback (most recent call last)",
      "Cell \u001b[1;32mIn[6], line 4\u001b[0m\n\u001b[0;32m      2\u001b[0m big\u001b[38;5;241m=\u001b[39m\u001b[38;5;28mmax\u001b[39m(\u001b[38;5;124m'\u001b[39m\u001b[38;5;124mHello world\u001b[39m\u001b[38;5;124m'\u001b[39m)\u001b[38;5;66;03m#where defined\u001b[39;00m\n\u001b[0;32m      3\u001b[0m \u001b[38;5;66;03m#Parameter\u001b[39;00m\n\u001b[1;32m----> 4\u001b[0m \u001b[38;5;28mmax\u001b[39m()\n",
      "\u001b[1;31mTypeError\u001b[0m: max expected at least 1 argument, got 0"
     ]
    }
   ],
   "source": [
    "#Argument\n",
    "big=max('Hello world')#where defined\n",
    "#Parameter\n",
    "max()#where called"
   ]
  },
  {
   "cell_type": "code",
   "execution_count": 8,
   "id": "7250ec3f",
   "metadata": {},
   "outputs": [
    {
     "name": "stdout",
     "output_type": "stream",
     "text": [
      "Hello Glenn\n",
      "Hola Sally\n",
      "Bonjour Michael\n"
     ]
    }
   ],
   "source": [
    "#Return Value\n",
    "def greet(lang):\n",
    "    if lang =='es':\n",
    "        return 'Hola'\n",
    "    elif lang == 'fr':\n",
    "        return 'Bonjour'\n",
    "    else:\n",
    "        return 'Hello'\n",
    "print(greet('en'),'Glenn')\n",
    "print(greet('es'),'Sally')\n",
    "print(greet('fr'),'Michael')"
   ]
  },
  {
   "cell_type": "code",
   "execution_count": 14,
   "id": "de5419b8",
   "metadata": {},
   "outputs": [
    {
     "name": "stdout",
     "output_type": "stream",
     "text": [
      "Enter the Hours User Worked?45\n",
      "Enter hours worked more than 405\n",
      "475\n"
     ]
    }
   ],
   "source": [
    "#Rewrite your pay computation using try and except to give the employee 1.5 times the hourly rate for hours worked above 40 hours 2 parameters(hours and rate)\n",
    "\n",
    "def gross(ratprHour):\n",
    "    try:\n",
    "        inputHours=int(input('Enter the Hours User Worked?'))\n",
    "        if inputHours<=40:\n",
    "            grosspay=ratprHour * inputHours\n",
    "            print(grosspay)\n",
    "        elif inputHours>40:\n",
    "            rate4more=15\n",
    "            more=int(input('Enter hours worked more than 40'))\n",
    "            grosspay=(ratprHour * 40)+(more*rate4more)\n",
    "            print(grosspay)\n",
    "    except:\n",
    "        print('Error please enter numeric input')\n",
    "gross(10)"
   ]
  },
  {
   "cell_type": "code",
   "execution_count": null,
   "id": "c9f9a4d5",
   "metadata": {},
   "outputs": [],
   "source": []
  },
  {
   "cell_type": "code",
   "execution_count": null,
   "id": "fca023a2",
   "metadata": {},
   "outputs": [],
   "source": []
  },
  {
   "cell_type": "code",
   "execution_count": null,
   "id": "3cfc63fa",
   "metadata": {},
   "outputs": [],
   "source": []
  }
 ],
 "metadata": {
  "kernelspec": {
   "display_name": "Python 3 (ipykernel)",
   "language": "python",
   "name": "python3"
  },
  "language_info": {
   "codemirror_mode": {
    "name": "ipython",
    "version": 3
   },
   "file_extension": ".py",
   "mimetype": "text/x-python",
   "name": "python",
   "nbconvert_exporter": "python",
   "pygments_lexer": "ipython3",
   "version": "3.11.4"
  }
 },
 "nbformat": 4,
 "nbformat_minor": 5
}
