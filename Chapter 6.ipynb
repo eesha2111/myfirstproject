{
 "cells": [
  {
   "cell_type": "markdown",
   "id": "ee76651b",
   "metadata": {},
   "source": [
    "# Chapter 6\n",
    "### strings"
   ]
  },
  {
   "cell_type": "code",
   "execution_count": 1,
   "id": "1e8f176a",
   "metadata": {},
   "outputs": [
    {
     "name": "stdout",
     "output_type": "stream",
     "text": [
      "Hellothere\n"
     ]
    }
   ],
   "source": [
    "#string concatenation\n",
    "str1='Hello'\n",
    "str2='there'\n",
    "bob=str1+str2\n",
    "print(bob)"
   ]
  },
  {
   "cell_type": "code",
   "execution_count": 2,
   "id": "27c896cc",
   "metadata": {},
   "outputs": [
    {
     "name": "stdout",
     "output_type": "stream",
     "text": [
      "6\n"
     ]
    }
   ],
   "source": [
    "#len function\n",
    "fruit='banana'\n",
    "x=len(fruit)\n",
    "print(x)"
   ]
  },
  {
   "cell_type": "code",
   "execution_count": 3,
   "id": "d4dbf04b",
   "metadata": {},
   "outputs": [
    {
     "name": "stdout",
     "output_type": "stream",
     "text": [
      "0 b\n",
      "1 a\n",
      "2 n\n",
      "3 a\n",
      "4 n\n",
      "5 a\n"
     ]
    }
   ],
   "source": [
    "#looping through strings\n",
    "fruit='banana'\n",
    "index=0\n",
    "while index<len(fruit):\n",
    "    letter =fruit[index]\n",
    "    print(index,letter)\n",
    "    index=index+1"
   ]
  },
  {
   "cell_type": "code",
   "execution_count": 4,
   "id": "77c716f1",
   "metadata": {},
   "outputs": [
    {
     "name": "stdout",
     "output_type": "stream",
     "text": [
      "Mont\n",
      "P\n",
      "Python\n"
     ]
    }
   ],
   "source": [
    "#slicing strings\n",
    "s='Monty Python'\n",
    "print(s[0:4])\n",
    "print(s[6:7])\n",
    "print(s[6:20])"
   ]
  },
  {
   "cell_type": "code",
   "execution_count": 7,
   "id": "3ea1a214",
   "metadata": {},
   "outputs": [
    {
     "name": "stdout",
     "output_type": "stream",
     "text": [
      "True\n",
      "Found it!\n"
     ]
    }
   ],
   "source": [
    "#using in as a logical operator\n",
    "fruit='banana'\n",
    "print('n' in fruit)\n",
    "if 'a' in fruit:\n",
    "    print('Found it!')"
   ]
  },
  {
   "cell_type": "code",
   "execution_count": 8,
   "id": "2591129d",
   "metadata": {},
   "outputs": [
    {
     "name": "stdout",
     "output_type": "stream",
     "text": [
      "2\n",
      "-1\n"
     ]
    }
   ],
   "source": [
    "#Searching a string\n",
    "fruit='banana'\n",
    "pos=fruit.find('na')\n",
    "print(pos)\n",
    "aa=fruit.find('z')\n",
    "print(aa)"
   ]
  },
  {
   "cell_type": "code",
   "execution_count": 9,
   "id": "20b658fe",
   "metadata": {},
   "outputs": [
    {
     "name": "stdout",
     "output_type": "stream",
     "text": [
      "HELLO WORLD\n",
      "hello world\n"
     ]
    }
   ],
   "source": [
    "#Upper case\n",
    "greet='Hello world'\n",
    "nnn=greet.upper()\n",
    "print(nnn)\n",
    "#Lower case\n",
    "www=greet.lower()\n",
    "print(www)"
   ]
  },
  {
   "cell_type": "code",
   "execution_count": 10,
   "id": "e3fe8941",
   "metadata": {},
   "outputs": [
    {
     "name": "stdout",
     "output_type": "stream",
     "text": [
      "Hello Jane\n"
     ]
    }
   ],
   "source": [
    "#search and replace\n",
    "greet='Hello Bob'\n",
    "nstr=greet.replace('Bob','Jane')\n",
    "print(nstr)"
   ]
  },
  {
   "cell_type": "code",
   "execution_count": 11,
   "id": "a37c4e40",
   "metadata": {},
   "outputs": [
    {
     "name": "stdout",
     "output_type": "stream",
     "text": [
      "Hello Bob\n"
     ]
    }
   ],
   "source": [
    "#stripping whitespace\n",
    "greet='    Hello Bob'\n",
    "print(greet.lstrip())"
   ]
  },
  {
   "cell_type": "code",
   "execution_count": 13,
   "id": "6429b3ec",
   "metadata": {},
   "outputs": [
    {
     "name": "stdout",
     "output_type": "stream",
     "text": [
      "True\n",
      "False\n"
     ]
    }
   ],
   "source": [
    "#Prefixes\n",
    "line='Please have a nice day'\n",
    "print(line.startswith('Please'))\n",
    "print(line.startswith('p'))"
   ]
  },
  {
   "cell_type": "code",
   "execution_count": 16,
   "id": "d928b93f",
   "metadata": {},
   "outputs": [
    {
     "name": "stdout",
     "output_type": "stream",
     "text": [
      "19\n",
      "29\n",
      "gmail.com\n"
     ]
    }
   ],
   "source": [
    "data='From eeshaahmed2111@gmail.com Sat Jan 5 09:14:16 2023'\n",
    "atpos=data.find('@')\n",
    "print(atpos)\n",
    "sppos=data.find(' ',atpos)\n",
    "print(sppos)\n",
    "host=data[atpos+1 : sppos]\n",
    "print(host)"
   ]
  },
  {
   "cell_type": "code",
   "execution_count": null,
   "id": "b402f875",
   "metadata": {},
   "outputs": [],
   "source": []
  }
 ],
 "metadata": {
  "kernelspec": {
   "display_name": "Python 3 (ipykernel)",
   "language": "python",
   "name": "python3"
  },
  "language_info": {
   "codemirror_mode": {
    "name": "ipython",
    "version": 3
   },
   "file_extension": ".py",
   "mimetype": "text/x-python",
   "name": "python",
   "nbconvert_exporter": "python",
   "pygments_lexer": "ipython3",
   "version": "3.11.4"
  }
 },
 "nbformat": 4,
 "nbformat_minor": 5
}
