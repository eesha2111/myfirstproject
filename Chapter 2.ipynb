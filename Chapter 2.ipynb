{
 "cells": [
  {
   "cell_type": "markdown",
   "id": "3a108524",
   "metadata": {},
   "source": [
    "# Chapter 2\n",
    "### Variables, Expressions, and Statements\n"
   ]
  },
  {
   "cell_type": "code",
   "execution_count": 1,
   "id": "a1ebc76b",
   "metadata": {},
   "outputs": [
    {
     "name": "stdout",
     "output_type": "stream",
     "text": [
      "123\n",
      "98.0\n",
      "Hello World\n"
     ]
    }
   ],
   "source": [
    "# Constants(Fixed Values)\n",
    "print(123)\n",
    "print(98.0)\n",
    "print('Hello World')"
   ]
  },
  {
   "cell_type": "markdown",
   "id": "9aface7d",
   "metadata": {},
   "source": [
    "## Reserved Words\n",
    "### Can't be used as variable names / identifiers"
   ]
  },
  {
   "cell_type": "code",
   "execution_count": 2,
   "id": "318cafe3",
   "metadata": {},
   "outputs": [
    {
     "name": "stdout",
     "output_type": "stream",
     "text": [
      "100 14\n"
     ]
    }
   ],
   "source": [
    "# Variales(Named place in the memory where programmer can store data and retrieve later on using variable name)\n",
    "x=12.2\n",
    "y=14\n",
    "x=100 #now x value changed this will be printed\n",
    "print(x,y)"
   ]
  },
  {
   "cell_type": "code",
   "execution_count": 3,
   "id": "ef5718ee",
   "metadata": {},
   "outputs": [
    {
     "name": "stdout",
     "output_type": "stream",
     "text": [
      "437.5\n"
     ]
    }
   ],
   "source": [
    "a= 35.0\n",
    "b= 12.50\n",
    "c= a*b\n",
    "print(c)"
   ]
  },
  {
   "cell_type": "code",
   "execution_count": 4,
   "id": "1d9b7683",
   "metadata": {},
   "outputs": [
    {
     "name": "stdout",
     "output_type": "stream",
     "text": [
      "4\n",
      "5280\n",
      "5.28\n",
      "3\n",
      "64\n"
     ]
    }
   ],
   "source": [
    "# Expressions\n",
    "## Numeric Expressions\n",
    "xx=2\n",
    "xx=xx+2#addition\n",
    "print(xx)\n",
    "yy=440*12#multiplication\n",
    "print(yy)\n",
    "zz=yy/1000#division\n",
    "print(zz)\n",
    "jj=23\n",
    "kk=jj%5#remainder\n",
    "print(kk)\n",
    "print(4**3)#power"
   ]
  },
  {
   "cell_type": "code",
   "execution_count": 6,
   "id": "48ac61fe",
   "metadata": {},
   "outputs": [
    {
     "name": "stdout",
     "output_type": "stream",
     "text": [
      "5\n",
      "hello there\n"
     ]
    }
   ],
   "source": [
    "ddd=1+4\n",
    "print(ddd)\n",
    "eee='hello ' + 'there'#concatenation in string type\n",
    "print(eee)\n"
   ]
  },
  {
   "cell_type": "code",
   "execution_count": 8,
   "id": "8d44dd31",
   "metadata": {},
   "outputs": [
    {
     "name": "stdout",
     "output_type": "stream",
     "text": [
      "<class 'int'>\n",
      "<class 'float'>\n",
      "<class 'int'>\n",
      "<class 'float'>\n"
     ]
    }
   ],
   "source": [
    "# Data Types(int,float,list,dict,string etc)\n",
    "xx=1\n",
    "print(type(xx))\n",
    "temp=98.6\n",
    "print(type(temp))\n",
    "print(type(1))\n",
    "print(type(1.0))"
   ]
  },
  {
   "cell_type": "code",
   "execution_count": 9,
   "id": "57486d63",
   "metadata": {},
   "outputs": [
    {
     "name": "stdout",
     "output_type": "stream",
     "text": [
      "199.0\n",
      "24.0\n",
      "<class 'float'>\n"
     ]
    }
   ],
   "source": [
    "#Type Conversions\n",
    "print(float(99) + 100)\n",
    "i=24\n",
    "type(i)\n",
    "f=float(i)\n",
    "print(f)\n",
    "print(type(f))"
   ]
  },
  {
   "cell_type": "code",
   "execution_count": 10,
   "id": "476cd058",
   "metadata": {},
   "outputs": [
    {
     "name": "stdout",
     "output_type": "stream",
     "text": [
      "5.0\n",
      "0.99\n"
     ]
    }
   ],
   "source": [
    "#Integer Division\n",
    "print(10/2)\n",
    "print(99.0/100.0)"
   ]
  },
  {
   "cell_type": "code",
   "execution_count": 11,
   "id": "f44f07f5",
   "metadata": {},
   "outputs": [
    {
     "name": "stdout",
     "output_type": "stream",
     "text": [
      "<class 'str'>\n"
     ]
    },
    {
     "ename": "TypeError",
     "evalue": "can only concatenate str (not \"int\") to str",
     "output_type": "error",
     "traceback": [
      "\u001b[1;31m---------------------------------------------------------------------------\u001b[0m",
      "\u001b[1;31mTypeError\u001b[0m                                 Traceback (most recent call last)",
      "Cell \u001b[1;32mIn[11], line 4\u001b[0m\n\u001b[0;32m      2\u001b[0m sval \u001b[38;5;241m=\u001b[39m\u001b[38;5;124m'\u001b[39m\u001b[38;5;124m123\u001b[39m\u001b[38;5;124m'\u001b[39m\n\u001b[0;32m      3\u001b[0m \u001b[38;5;28mprint\u001b[39m(\u001b[38;5;28mtype\u001b[39m(sval))\n\u001b[1;32m----> 4\u001b[0m \u001b[38;5;28mprint\u001b[39m(sval \u001b[38;5;241m+\u001b[39m\u001b[38;5;241m1\u001b[39m)\n",
      "\u001b[1;31mTypeError\u001b[0m: can only concatenate str (not \"int\") to str"
     ]
    }
   ],
   "source": [
    "#String Conversions\n",
    "sval ='123'\n",
    "print(type(sval))\n",
    "print(sval +1)#ERROR"
   ]
  },
  {
   "cell_type": "code",
   "execution_count": 12,
   "id": "b52a75f8",
   "metadata": {},
   "outputs": [
    {
     "name": "stdout",
     "output_type": "stream",
     "text": [
      "<class 'int'>\n",
      "124\n"
     ]
    },
    {
     "ename": "ValueError",
     "evalue": "invalid literal for int() with base 10: 'hello bob'",
     "output_type": "error",
     "traceback": [
      "\u001b[1;31m---------------------------------------------------------------------------\u001b[0m",
      "\u001b[1;31mValueError\u001b[0m                                Traceback (most recent call last)",
      "Cell \u001b[1;32mIn[12], line 5\u001b[0m\n\u001b[0;32m      3\u001b[0m \u001b[38;5;28mprint\u001b[39m(ival \u001b[38;5;241m+\u001b[39m\u001b[38;5;241m1\u001b[39m)\n\u001b[0;32m      4\u001b[0m nsv\u001b[38;5;241m=\u001b[39m\u001b[38;5;124m'\u001b[39m\u001b[38;5;124mhello bob\u001b[39m\u001b[38;5;124m'\u001b[39m\n\u001b[1;32m----> 5\u001b[0m niv \u001b[38;5;241m=\u001b[39m \u001b[38;5;28mint\u001b[39m(nsv)\n",
      "\u001b[1;31mValueError\u001b[0m: invalid literal for int() with base 10: 'hello bob'"
     ]
    }
   ],
   "source": [
    "ival=int(sval)\n",
    "print(type(ival))\n",
    "print(ival +1)\n",
    "nsv='hello bob'\n",
    "niv = int(nsv)#ERROR"
   ]
  },
  {
   "cell_type": "code",
   "execution_count": 13,
   "id": "aa402be2",
   "metadata": {},
   "outputs": [
    {
     "name": "stdout",
     "output_type": "stream",
     "text": [
      "Who are you?Eesha Ahmed\n",
      "Welcome Eesha Ahmed\n"
     ]
    }
   ],
   "source": [
    "#User Input\n",
    "nam= input('Who are you?')\n",
    "print('Welcome', nam)"
   ]
  },
  {
   "cell_type": "code",
   "execution_count": 14,
   "id": "a71d0617",
   "metadata": {},
   "outputs": [
    {
     "name": "stdout",
     "output_type": "stream",
     "text": [
      "Europe Floor?0\n",
      "US Floor 1\n"
     ]
    }
   ],
   "source": [
    "#Converting User Input\n",
    "inp = input('Europe Floor?')\n",
    "usf = int(inp) + 1\n",
    "print('US Floor', usf)"
   ]
  },
  {
   "cell_type": "code",
   "execution_count": 17,
   "id": "b1822436",
   "metadata": {},
   "outputs": [
    {
     "name": "stdout",
     "output_type": "stream",
     "text": [
      "Enter the Hours User Worked?35\n",
      "96.25\n"
     ]
    }
   ],
   "source": [
    "#Write a program to prompt the user for hours and rate per hour to compute gross pay\n",
    "##Enter Hours:35\n",
    "##Enter Rate: 2.75\n",
    "\n",
    "ratprHour=2.75\n",
    "inputHours=int(input('Enter the Hours User Worked?'))\n",
    "grosspay=ratprHour * inputHours\n",
    "print(grosspay)"
   ]
  },
  {
   "cell_type": "code",
   "execution_count": null,
   "id": "77a48bd6",
   "metadata": {},
   "outputs": [],
   "source": []
  }
 ],
 "metadata": {
  "kernelspec": {
   "display_name": "Python 3 (ipykernel)",
   "language": "python",
   "name": "python3"
  },
  "language_info": {
   "codemirror_mode": {
    "name": "ipython",
    "version": 3
   },
   "file_extension": ".py",
   "mimetype": "text/x-python",
   "name": "python",
   "nbconvert_exporter": "python",
   "pygments_lexer": "ipython3",
   "version": "3.11.4"
  }
 },
 "nbformat": 4,
 "nbformat_minor": 5
}
