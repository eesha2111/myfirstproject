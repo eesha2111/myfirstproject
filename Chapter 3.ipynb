{
 "cells": [
  {
   "cell_type": "markdown",
   "id": "49af8995",
   "metadata": {},
   "source": [
    "# Chapter 3\n",
    "### Conditional Execution"
   ]
  },
  {
   "cell_type": "code",
   "execution_count": 1,
   "id": "c163bc87",
   "metadata": {},
   "outputs": [
    {
     "name": "stdout",
     "output_type": "stream",
     "text": [
      "Smaller\n",
      "Finis\n"
     ]
    }
   ],
   "source": [
    "##Conditional Steps\n",
    "x=5\n",
    "if x< 10:\n",
    "    print('Smaller')\n",
    "if x>20:\n",
    "    print('Bigger')\n",
    "print('Finis')"
   ]
  },
  {
   "cell_type": "markdown",
   "id": "dc9e69c4",
   "metadata": {},
   "source": [
    "## Comparison Operators\n",
    "### <: Less than\n",
    "### >: Greater than\n",
    "### >=: Greter than Equal to\n",
    "### <=: Less than Equal to\n",
    "### ==: Equal to\n",
    "### !=: Not equal"
   ]
  },
  {
   "cell_type": "code",
   "execution_count": 2,
   "id": "2ab1e7c2",
   "metadata": {},
   "outputs": [
    {
     "name": "stdout",
     "output_type": "stream",
     "text": [
      "Equal 5\n",
      "Greater than 4\n",
      "Less than 6\n",
      "Less than or Equals 5\n",
      "Not equal 6\n"
     ]
    }
   ],
   "source": [
    "#Comparison Operators\n",
    "x=5\n",
    "if x==5:\n",
    "    print('Equal 5')\n",
    "if x>4:\n",
    "    print('Greater than 4')\n",
    "if x<6:\n",
    "    print('Less than 6')\n",
    "if x<=5:\n",
    "    print('Less than or Equals 5')\n",
    "if x!=6:\n",
    "    print('Not equal 6')"
   ]
  },
  {
   "cell_type": "code",
   "execution_count": 3,
   "id": "16c29d4d",
   "metadata": {},
   "outputs": [
    {
     "name": "stdout",
     "output_type": "stream",
     "text": [
      "Bigger than 2\n",
      "Still bigger\n",
      "Done with 2\n",
      "0\n",
      "Done with i 0\n",
      "1\n",
      "Done with i 1\n",
      "2\n",
      "Done with i 2\n",
      "3\n",
      "Bigger than 2\n",
      "Done with i 3\n",
      "4\n",
      "Bigger than 2\n",
      "Done with i 4\n",
      "All Done\n"
     ]
    }
   ],
   "source": [
    "#Indentation\n",
    "x=5\n",
    "if x>2:\n",
    "    print('Bigger than 2')\n",
    "    print('Still bigger')\n",
    "print('Done with 2')\n",
    "\n",
    "for i in range(5):\n",
    "    print(i)\n",
    "    if i>2:\n",
    "        print('Bigger than 2')\n",
    "    print('Done with i', i)\n",
    "print('All Done')"
   ]
  },
  {
   "cell_type": "code",
   "execution_count": 4,
   "id": "1085043f",
   "metadata": {},
   "outputs": [
    {
     "name": "stdout",
     "output_type": "stream",
     "text": [
      "More than 1\n",
      "Less than 100\n",
      "All done\n"
     ]
    }
   ],
   "source": [
    "#Nested Decisions\n",
    "x=42\n",
    "if x>1:\n",
    "    print('More than 1')\n",
    "    if x<100:\n",
    "        print('Less than 100')\n",
    "print('All done')"
   ]
  },
  {
   "cell_type": "code",
   "execution_count": 5,
   "id": "ea778b0c",
   "metadata": {},
   "outputs": [
    {
     "name": "stdout",
     "output_type": "stream",
     "text": [
      "Large\n",
      "All done\n"
     ]
    }
   ],
   "source": [
    "#Multi-way Conditional Structures\n",
    "if x<2:\n",
    "    print('small')\n",
    "elif x<10:\n",
    "    print('Medium')\n",
    "else :\n",
    "    print('Large')\n",
    "print('All done')"
   ]
  },
  {
   "cell_type": "code",
   "execution_count": 6,
   "id": "367c48a8",
   "metadata": {},
   "outputs": [
    {
     "name": "stdout",
     "output_type": "stream",
     "text": [
      "First -1\n",
      "Second 123\n"
     ]
    }
   ],
   "source": [
    "#TRY EXCEPT structure\n",
    "astr ='Hello Bob'\n",
    "try:\n",
    "    istr=int(astr)\n",
    "except:\n",
    "    istr=-1\n",
    "    \n",
    "print('First', istr)\n",
    "\n",
    "astr ='123' \n",
    "try:\n",
    "    istr=int(astr)\n",
    "except:\n",
    "    istr=-1\n",
    "print('Second', istr)"
   ]
  },
  {
   "cell_type": "code",
   "execution_count": 8,
   "id": "986608ac",
   "metadata": {},
   "outputs": [
    {
     "name": "stdout",
     "output_type": "stream",
     "text": [
      "Enter the Hours User Worked?45\n",
      "675.0\n"
     ]
    }
   ],
   "source": [
    "#Rewrite your pay computation to give the employee 1.5 times the hourly rate for hours worked above 40 hours\n",
    "ratprHour=10\n",
    "inputHours=int(input('Enter the Hours User Worked?'))\n",
    "if inputHours<=40:\n",
    "    grosspay=ratprHour * inputHours\n",
    "    print(grosspay)\n",
    "else:\n",
    "    grosspay=1.5*(ratprHour * inputHours)\n",
    "    print(grosspay)"
   ]
  },
  {
   "cell_type": "code",
   "execution_count": 13,
   "id": "d349a900",
   "metadata": {},
   "outputs": [
    {
     "name": "stdout",
     "output_type": "stream",
     "text": [
      "Enter the Hours User Worked?45\n",
      "Enter hours worked more than 405\n",
      "475\n"
     ]
    }
   ],
   "source": [
    "#Rewrite your pay computation using try and except to give the employee 1.5 times the hourly rate for hours worked above 40 hours\n",
    "ratprHour=10\n",
    "try:\n",
    "    inputHours=int(input('Enter the Hours User Worked?'))\n",
    "    if inputHours<=40:\n",
    "        grosspay=ratprHour * inputHours\n",
    "        print(grosspay)\n",
    "    elif inputHours>40:\n",
    "        rate4more=15\n",
    "        more=int(input('Enter hours worked more than 40'))\n",
    "        grosspay=(ratprHour * 40)+(more*rate4more)\n",
    "        print(grosspay)\n",
    "except:\n",
    "    print('Error please enter numeric input')"
   ]
  },
  {
   "cell_type": "code",
   "execution_count": null,
   "id": "a99ca891",
   "metadata": {},
   "outputs": [],
   "source": []
  },
  {
   "cell_type": "code",
   "execution_count": null,
   "id": "13cf5b65",
   "metadata": {},
   "outputs": [],
   "source": []
  }
 ],
 "metadata": {
  "kernelspec": {
   "display_name": "Python 3 (ipykernel)",
   "language": "python",
   "name": "python3"
  },
  "language_info": {
   "codemirror_mode": {
    "name": "ipython",
    "version": 3
   },
   "file_extension": ".py",
   "mimetype": "text/x-python",
   "name": "python",
   "nbconvert_exporter": "python",
   "pygments_lexer": "ipython3",
   "version": "3.11.4"
  }
 },
 "nbformat": 4,
 "nbformat_minor": 5
}
