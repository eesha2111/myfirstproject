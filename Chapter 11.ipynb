{
 "cells": [
  {
   "cell_type": "markdown",
   "id": "cc0d7e2d",
   "metadata": {},
   "source": [
    "# Chapter 11\n",
    "\n",
    "## OBJECT ORIENTED PROGRAMMING"
   ]
  },
  {
   "cell_type": "code",
   "execution_count": 1,
   "id": "93432343",
   "metadata": {},
   "outputs": [
    {
     "name": "stdout",
     "output_type": "stream",
     "text": [
      "red\n",
      "sweet\n",
      "RED\n"
     ]
    }
   ],
   "source": [
    "class Apple:\n",
    "    color=\"\"\n",
    "    flavor=\"\"\n",
    "jonagold=Apple()\n",
    "jonagold.color=\"red\"\n",
    "jonagold.flavor=\"sweet\"\n",
    "print(jonagold.color)\n",
    "print(jonagold.flavor)\n",
    "print(jonagold.color.upper())\n",
    "golden=Apple()\n",
    "golden.color=\"Yellow\"\n",
    "golden.flavor=\"Soft\""
   ]
  },
  {
   "cell_type": "code",
   "execution_count": 3,
   "id": "0d1721b8",
   "metadata": {},
   "outputs": [
    {
     "name": "stdout",
     "output_type": "stream",
     "text": [
      "Meow Luna\n",
      "Meow Bella\n"
     ]
    }
   ],
   "source": [
    "class Cat:\n",
    "    name=\"\"\n",
    "    def speak(self):\n",
    "        print(\"Meow {}\".format(self.name))\n",
    "myLuna=Cat()\n",
    "myLuna.name=\"Luna\"\n",
    "myLuna.speak()\n",
    "\n",
    "myBella=Cat()\n",
    "myBella.name=\"Bella\"\n",
    "myBella.speak()"
   ]
  },
  {
   "cell_type": "code",
   "execution_count": 5,
   "id": "7bf876e9",
   "metadata": {},
   "outputs": [
    {
     "data": {
      "text/plain": [
       "24"
      ]
     },
     "execution_count": 5,
     "metadata": {},
     "output_type": "execute_result"
    }
   ],
   "source": [
    "class Cat:\n",
    "    years=0\n",
    "    def age (self):\n",
    "        return self.years*12\n",
    "myLuna=Cat()\n",
    "myLuna.years=2\n",
    "myLuna.age()"
   ]
  },
  {
   "cell_type": "code",
   "execution_count": 16,
   "id": "ef1dc4d7",
   "metadata": {},
   "outputs": [
    {
     "name": "stdout",
     "output_type": "stream",
     "text": [
      "sweet\n",
      "<__main__.Apple object at 0x000001ADB6C46550>\n"
     ]
    }
   ],
   "source": [
    "class Apple:\n",
    "    def __init__(self,color,flavor):\n",
    "        self.color=color\n",
    "        self.flavor=flavor\n",
    "        \n",
    "jonagold= Apple(\"red\",\"sweet\")\n",
    "print(jonagold.flavor)\n",
    "print(jonagold)"
   ]
  },
  {
   "cell_type": "code",
   "execution_count": 20,
   "id": "cf10891b",
   "metadata": {},
   "outputs": [
    {
     "name": "stdout",
     "output_type": "stream",
     "text": [
      "Ths apple is red and its flavor is sweet\n"
     ]
    }
   ],
   "source": [
    "class Apple:\n",
    "    def __init__(self,color,flavor):\n",
    "        self.color=color\n",
    "        self.flavor=flavor\n",
    "    def __str__(self):\n",
    "        return \"Ths apple is {} and its flavor is {}\".format(self.color, self.flavor)\n",
    "    \n",
    "    jonagold=Apple(\"red\",\"sweet\")\n",
    "    print(jonagold)"
   ]
  },
  {
   "cell_type": "code",
   "execution_count": 18,
   "id": "ed12e127",
   "metadata": {},
   "outputs": [
    {
     "name": "stdout",
     "output_type": "stream",
     "text": [
      "Help on class Apple in module __main__:\n",
      "\n",
      "class Apple(builtins.object)\n",
      " |  Apple(color, flavor)\n",
      " |  \n",
      " |  Methods defined here:\n",
      " |  \n",
      " |  __init__(self, color, flavor)\n",
      " |      Initialize self.  See help(type(self)) for accurate signature.\n",
      " |  \n",
      " |  __str__(self)\n",
      " |      Return str(self).\n",
      " |  \n",
      " |  ----------------------------------------------------------------------\n",
      " |  Data descriptors defined here:\n",
      " |  \n",
      " |  __dict__\n",
      " |      dictionary for instance variables (if defined)\n",
      " |  \n",
      " |  __weakref__\n",
      " |      list of weak references to the object (if defined)\n",
      " |  \n",
      " |  ----------------------------------------------------------------------\n",
      " |  Data and other attributes defined here:\n",
      " |  \n",
      " |  jonagold = <__main__.Apple object>\n",
      "\n"
     ]
    }
   ],
   "source": [
    "class Apple:\n",
    "    def __init__(self,color,flavor):\n",
    "        self.color=color\n",
    "        self.flavor=flavor\n",
    "    def __str__(self):\n",
    "        return \"Ths apple is {} and its flavor is {}\".format(self.color, self.flavor)\n",
    "    help(Apple)"
   ]
  },
  {
   "cell_type": "code",
   "execution_count": 19,
   "id": "89ca42de",
   "metadata": {},
   "outputs": [],
   "source": [
    "def to_seconds(hours,minutes,seconds):\n",
    "    return hours*3600+minutes*60+seconds"
   ]
  },
  {
   "cell_type": "code",
   "execution_count": 22,
   "id": "6cf6a87d",
   "metadata": {},
   "outputs": [],
   "source": [
    "class Animal:\n",
    "    sound=\"\"\n",
    "    def __init__(self,name):\n",
    "        self.name=name\n",
    "    def speak(self):\n",
    "        print(\"{sound} I'm {name}! {sound}\".format(name=self.name, sound=self.sound))\n",
    "        \n",
    "        class Cat(Animal):\n",
    "            sound=\"meow!\"\n",
    "            \n",
    "        myLuna=Cat(\"luna\")\n",
    "        myLuna.speak()"
   ]
  },
  {
   "cell_type": "code",
   "execution_count": null,
   "id": "df786d89",
   "metadata": {},
   "outputs": [],
   "source": []
  }
 ],
 "metadata": {
  "kernelspec": {
   "display_name": "Python 3 (ipykernel)",
   "language": "python",
   "name": "python3"
  },
  "language_info": {
   "codemirror_mode": {
    "name": "ipython",
    "version": 3
   },
   "file_extension": ".py",
   "mimetype": "text/x-python",
   "name": "python",
   "nbconvert_exporter": "python",
   "pygments_lexer": "ipython3",
   "version": "3.11.4"
  }
 },
 "nbformat": 4,
 "nbformat_minor": 5
}
