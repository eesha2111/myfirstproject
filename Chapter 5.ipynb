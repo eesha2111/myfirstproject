{
 "cells": [
  {
   "cell_type": "markdown",
   "id": "08f3a848",
   "metadata": {},
   "source": [
    "# Chapter 5\n",
    "### Loops & Iteration"
   ]
  },
  {
   "cell_type": "code",
   "execution_count": null,
   "id": "618a2aa1",
   "metadata": {},
   "outputs": [],
   "source": [
    "#Repeated Steps\n",
    "n=5\n",
    "while n>0:\n",
    "    print(n)\n",
    "    n=n-1\n",
    "print('Blastoff!')"
   ]
  },
  {
   "cell_type": "code",
   "execution_count": null,
   "id": "0ae207b7",
   "metadata": {},
   "outputs": [],
   "source": [
    "#An Infinite loop\n",
    "#Break\n",
    "n=5\n",
    "while n>0:\n",
    "    print('Lather')\n",
    "    print('Rinse')\n",
    "    break#to stop from infinity\n",
    "print('Dry off')"
   ]
  },
  {
   "cell_type": "code",
   "execution_count": null,
   "id": "6c55c6cf",
   "metadata": {},
   "outputs": [],
   "source": [
    "#Continue\n",
    "while True:\n",
    "    line=input('>')\n",
    "    if line[0]=='#':\n",
    "        continue\n",
    "    if line == 'done':\n",
    "        break\n",
    "    print(line)\n",
    "print('Done!')"
   ]
  },
  {
   "cell_type": "markdown",
   "id": "6cc8a34b",
   "metadata": {},
   "source": [
    "# Definite loop\n"
   ]
  },
  {
   "cell_type": "code",
   "execution_count": null,
   "id": "e469f32a",
   "metadata": {},
   "outputs": [],
   "source": [
    "for i in [5,4,3,2,1]:\n",
    "    print(i)\n",
    "print('Blastoff!')"
   ]
  },
  {
   "cell_type": "code",
   "execution_count": null,
   "id": "1c5f98a3",
   "metadata": {},
   "outputs": [],
   "source": [
    "friends=['joseph', 'glenn', 'sally']\n",
    "for friend in friends:\n",
    "    print('Happy New Year:', friend)\n",
    "print('Done!')"
   ]
  },
  {
   "cell_type": "code",
   "execution_count": null,
   "id": "730f5350",
   "metadata": {},
   "outputs": [],
   "source": [
    "largest_so_far=-1\n",
    "print('Before', largest_so_far)\n",
    "for the_num in [9,41,12,3,74,15]:\n",
    "    if the_num > largest_so_far:\n",
    "        largest_so_far=the_num\n",
    "    print(largest_so_far,the_num)\n",
    "print('After', largest_so_far)"
   ]
  },
  {
   "cell_type": "code",
   "execution_count": 2,
   "id": "89ddead2",
   "metadata": {},
   "outputs": [
    {
     "name": "stdout",
     "output_type": "stream",
     "text": [
      "Before 0 0\n",
      "1 9 9\n",
      "2 50 41\n",
      "3 62 12\n",
      "4 65 3\n",
      "5 139 74\n",
      "6 154 15\n",
      "After 6 154 25.666666666666668\n"
     ]
    }
   ],
   "source": [
    "count=0\n",
    "sum=0\n",
    "print('Before', count,sum)\n",
    "for value in [9,41,12,3,74,15]:\n",
    "    count=count+1\n",
    "    sum=sum+value\n",
    "    print(count,sum,value)\n",
    "print('After',count,sum,sum/count)"
   ]
  },
  {
   "cell_type": "code",
   "execution_count": 3,
   "id": "8dd72961",
   "metadata": {},
   "outputs": [
    {
     "name": "stdout",
     "output_type": "stream",
     "text": [
      "Before -1\n",
      "-1 9\n",
      "-1 41\n",
      "-1 12\n",
      "-1 3\n",
      "-1 74\n",
      "-1 15\n",
      "After -1\n"
     ]
    }
   ],
   "source": [
    "smallest_so_far=-1\n",
    "print('Before', smallest_so_far)\n",
    "for the_num in [9,41,12,3,74,15]:\n",
    "    if the_num < smallest_so_far:\n",
    "        smallest_so_far=the_num\n",
    "    print(smallest_so_far,the_num)\n",
    "print('After', smallest_so_far)"
   ]
  },
  {
   "cell_type": "code",
   "execution_count": 5,
   "id": "31bff12b",
   "metadata": {},
   "outputs": [
    {
     "name": "stdout",
     "output_type": "stream",
     "text": [
      "Before\n",
      "3 3\n",
      "3 41\n",
      "3 12\n",
      "3 9\n",
      "3 74\n",
      "3 15\n",
      "After 3\n"
     ]
    }
   ],
   "source": [
    "#The is and is not operator\n",
    "smallest=None\n",
    "print('Before')\n",
    "for value in [3,41,12,9,74,15]:\n",
    "    if smallest is None:\n",
    "        smallest=value\n",
    "    elif value<smallest:\n",
    "        smallest=value\n",
    "    print(smallest,value)\n",
    "print('After',smallest)"
   ]
  },
  {
   "cell_type": "code",
   "execution_count": null,
   "id": "24c4d20a",
   "metadata": {},
   "outputs": [],
   "source": []
  }
 ],
 "metadata": {
  "kernelspec": {
   "display_name": "Python 3 (ipykernel)",
   "language": "python",
   "name": "python3"
  },
  "language_info": {
   "codemirror_mode": {
    "name": "ipython",
    "version": 3
   },
   "file_extension": ".py",
   "mimetype": "text/x-python",
   "name": "python",
   "nbconvert_exporter": "python",
   "pygments_lexer": "ipython3",
   "version": "3.11.4"
  }
 },
 "nbformat": 4,
 "nbformat_minor": 5
}
